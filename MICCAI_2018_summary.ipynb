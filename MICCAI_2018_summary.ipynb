{
 "cells": [
  {
   "cell_type": "markdown",
   "metadata": {},
   "source": [
    "## MICCAI 2018 会议总结"
   ]
  },
  {
   "cell_type": "markdown",
   "metadata": {},
   "source": [
    "有幸参加 Miccai 2018，非常感谢王老师大力支持，和庄佳鑫同学为了各种材料而奔走。   \n",
    "闲话不多说，这次参会认识了众多在这一个领域里刻苦专研的博士生们，与他们的面对面交流改变我了自己的许多观点。能够与他们面对面交流是我此行最大的收获。然而，我自身水平有限，能够学习到的知识和理解的层面也比较低，在此尽我所能总结如下："
   ]
  },
  {
   "cell_type": "markdown",
   "metadata": {},
   "source": [
    "### 会议展示的各项内容"
   ]
  },
  {
   "cell_type": "markdown",
   "metadata": {},
   "source": [
    "看了比较多的会议文章，深切感受到，一篇论文的创新性真的是非常有限的，只是在相关领域内前进了很小很小的一步。很多都是稍微修改了一下网络结构或者改用了一些新的loss函数，就发表出来了，这些网络结构的修改真的是非常非常基础的复合。据我所知的组内各小组所实践的 Idea 如果能够有效的话，肯定是足够发 Miccai，甚至更高的，对此我觉得我们真的应该有足够的自信将这些想法实现下去。\n",
    "\n",
    "\n",
    "下面我就是我自己感受到会议发表文章氛围（当然，这也会会受到我自己知识局限，以及自己偏好的局限 ）。    \n",
    "\n",
    "1. 做分割与检测相关的文章比较多，以U-net和U-net改作为基础架构的文章巨多，单纯做分类的文章相对比较少。     \n",
    "\n",
    "2. 今年发表了大量的 GAN 相关的文章。    \n",
    "\n",
    "3. 强化学习在这方面只是做了非常简单的应用就发表了，有大佬表示明年做强化学习的文章应该会发表很多。\n",
    "\n",
    "4. 会议内容覆盖了医学影像的各个方面, 我们组里现在做的这几个方向应该是全覆盖了，对视网膜数据进行处理的文章巨多，还有对超声图像的检测，病理图像的分析和判别，对抗样本的分析，triplet-loss改， focus-loss改等等，均有不少的文章产出。但是也有一些方向是我们组里暂时还不具有的，比如 reconstruction 和 super-resolution。这是个非常有趣的方向，miccai专门开了一专区。        \n",
    "\n",
    "5. 国内大学的文章比较中规中矩，国外大学的文章比较新奇。\n",
    "\n"
   ]
  },
  {
   "cell_type": "markdown",
   "metadata": {},
   "source": [
    "### 有趣的方向——super-resolution"
   ]
  },
  {
   "cell_type": "markdown",
   "metadata": {},
   "source": [
    "我在这次会议上第一次接触到这个概念和方向。外国的大学在这个方向上发表了不少的文章，国内的暂时还没有看到。   \n",
    "做的事情很明确，就是通过使用低分辨率的图像和自动生成对应高清晰度的图片。就是不戴眼镜的人通过gpu计算可以看到高清蓝光的世界。这可以给医学数据的采集问题带来很大的便利。同时，也给降低训练网络的参数量提供了一种思路。  \n",
    "下面这个海报就有一个很好的思路\n",
    "![](./images/paper-super-resolution.jpg)\n",
    "\n"
   ]
  },
  {
   "cell_type": "markdown",
   "metadata": {},
   "source": [
    "个人感悟"
   ]
  },
  {
   "cell_type": "markdown",
   "metadata": {},
   "source": [
    "### 论文tips"
   ]
  },
  {
   "cell_type": "markdown",
   "metadata": {},
   "source": [
    "Maccai 评委们在会议期间给我们分享了一下他们在审稿的时候遇到的一些常见的问题，这非常值得我们去关注一下："
   ]
  },
  {
   "cell_type": "markdown",
   "metadata": {},
   "source": [
    "\n",
    ">common bad response in a rebuttal\n",
    "1. lack of reference to certain papers\n",
    "    bad response from authors:\n",
    "    1. we didn't have space\n",
    "    2. papers didn't have code so we couldn't compare with them so we didn't have cited them\n",
    "    3. It is no using deep learning\n",
    "2. authors didn't compare with baselines\n",
    "    bad response:\n",
    "    1. we didn't have time\n",
    "    2. we didn't find code\n",
    "3. not all details are presented and make the paper hard to follow\n",
    "    bad response \n",
    "    1. we don't have space ( well there is the supplemental )\n"
   ]
  },
  {
   "cell_type": "markdown",
   "metadata": {},
   "source": [
    "### 个人小结 "
   ]
  },
  {
   "cell_type": "markdown",
   "metadata": {},
   "source": [
    "- 要对自己正在做的方向和内容有充足的自信     \n",
    "- 大网络不一定是好的，在数据量比较小的时候，大网络是很难训练充分的，这时候大网络的表现未必有小网络的好     \n",
    "- 分析和处理数据的时候，一定要紧紧结合数据的特点，充分利用数据的所有的特征，没有绝对的好坏，比如不一定就是具有大的感受野就好，local一点，会有很好的妙用，关键是自己对数据怎么样进行理解\n",
    "- 当我们的卖点是一种新的分析思路和设计方法时，我们不一定要选用目前表现最好的网络模型，最求最高的得分，而更加应该选择经典的模型，使用经典的baseline，这样子实验和分析都比较简单，然后简单分析这种结果在先进网络中表现即可  \n",
    "- 多读论文，很有意思\n",
    "- 无论以后是想工作还是做科研，还是读书期间，博士的待遇比研究生好很多"
   ]
  },
  {
   "cell_type": "code",
   "execution_count": null,
   "metadata": {},
   "outputs": [],
   "source": []
  }
 ],
 "metadata": {
  "kernelspec": {
   "display_name": "tf1.8",
   "language": "python",
   "name": "tf1.8"
  },
  "language_info": {
   "codemirror_mode": {
    "name": "ipython",
    "version": 3
   },
   "file_extension": ".py",
   "mimetype": "text/x-python",
   "name": "python",
   "nbconvert_exporter": "python",
   "pygments_lexer": "ipython3",
   "version": "3.6.5"
  }
 },
 "nbformat": 4,
 "nbformat_minor": 2
}
