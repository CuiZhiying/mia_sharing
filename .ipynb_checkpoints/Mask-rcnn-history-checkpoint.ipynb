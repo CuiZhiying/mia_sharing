{
 "cells": [
  {
   "cell_type": "markdown",
   "metadata": {},
   "source": [
    "## 目标检测一览图（R-CNN一脉）"
   ]
  },
  {
   "cell_type": "markdown",
   "metadata": {},
   "source": [
    "在计算机视觉任务有四大基本任务：分类、检测、语义分割和实例分割。其中又以分类任务最为基础了。所以的任务都有分类器发展而成，我们最熟悉的也是各种分类器。今天我们可以看看由分类器发展出来的目标检测任务的基本思想（object detection）。   \n",
    "关于目标检测这一个系列，网上已经有大量的解读文章了。在这里只是想和大家讨论和分享一下这里面改进的思想。"
   ]
  },
  {
   "cell_type": "markdown",
   "metadata": {},
   "source": [
    "### R-CNN"
   ]
  },
  {
   "cell_type": "markdown",
   "metadata": {},
   "source": [
    "R-CNN指的是Regions with Convolutional Neural Network Features。一张图就可以看清楚里面的结构和内容了，只需要注意，其中每张图片生成的2k张候选框的话，是使用传统的超像素划分的方法划分出来的：   \n",
    "[![rcnn.jpg](https://i.postimg.cc/1zYJhk52/rcnn.jpg)](https://postimg.cc/JyZbjdX5)\n"
   ]
  },
  {
   "cell_type": "markdown",
   "metadata": {},
   "source": [
    "### fast R-CNN"
   ]
  },
  {
   "cell_type": "markdown",
   "metadata": {},
   "source": [
    "Rcnn的想法很朴素，但是要多一张图片产生的大量的候选框内容进行卷积，卷积到没玩没了的。速度很慢，不经济实惠。然后人们就提出了`fast R-CNN`"
   ]
  },
  {
   "cell_type": "markdown",
   "metadata": {},
   "source": [
    "其结构如下：\n",
    "[![fast-rcnn.png](https://i.postimg.cc/h48T9FRn/fast-rcnn.png)](https://postimg.cc/Z0RWSMqs)   \n"
   ]
  },
  {
   "cell_type": "markdown",
   "metadata": {},
   "source": [
    "这种做法呢，在feature层面上画出对应的ROI，然后直接将ROI抠出来的Feature map进行分类，这样子呢就避免了大量重复的卷积操作了。但是这样子也带来了新的问题，那就是ROI的大小不一，在全连接层里面没得玩呀。在这里，作者提出`RoI Pooling`的做法。也就是借鉴与何凯明的`SSP（Spatial Pyramid Pooling）`，中文名字叫空间金字塔池化。也很精妙，值得我们借鉴下   \n",
    "[![ssp.png](https://i.postimg.cc/05Jx3xyg/ssp.png)](https://postimg.cc/BtsdLrFN)\n",
    "\n"
   ]
  },
  {
   "cell_type": "markdown",
   "metadata": {},
   "source": [
    "另外值得注意的是，`fast rcnn`的话，为了修正Bounding Box的大小，还对Bounding Box的大小做了一个回归分析，来做分析。"
   ]
  },
  {
   "cell_type": "markdown",
   "metadata": {},
   "source": [
    "### Faster RCNN"
   ]
  },
  {
   "cell_type": "markdown",
   "metadata": {},
   "source": [
    "fast rcnn已经很快乐了，据说可以快达千倍。就是不够自动化，预选框框是传统的做法，不够卷积。加上2K个候选框也是蛮多的。所以，大佬又在这个方面上做文章了，在fast rcnn的基础上加上了Region Proposal Networks(RPN)，用于产生候选框，其实，这就是一个简单的二分类的分类网络，只判断有兴趣区域和没有兴趣区域。\n",
    "\n",
    "[![faster-rcnn.jpg](https://i.postimg.cc/tTxfrqt2/faster-rcnn.jpg)](https://postimg.cc/0M9cjq4w)    \n",
    "\n",
    "\n",
    "\n",
    "关于faster rcnn的更多细节的良心阅读，点击[zheli](https://zhuanlan.zhihu.com/p/31426458)\n",
    "\n"
   ]
  },
  {
   "cell_type": "markdown",
   "metadata": {},
   "source": [
    "### Mask RCNN"
   ]
  },
  {
   "cell_type": "markdown",
   "metadata": {},
   "source": [
    "Mask rcnn就不仅仅是做目标检测了，而是在检测的同时，顺带了做了个实例分割。就是在faster RCNN的中的bouding box分支上了继续做了个FCN"
   ]
  }
 ],
 "metadata": {
  "kernelspec": {
   "display_name": "Python 3",
   "language": "python",
   "name": "python3"
  },
  "language_info": {
   "codemirror_mode": {
    "name": "ipython",
    "version": 3
   },
   "file_extension": ".py",
   "mimetype": "text/x-python",
   "name": "python",
   "nbconvert_exporter": "python",
   "pygments_lexer": "ipython3",
   "version": "3.6.4"
  }
 },
 "nbformat": 4,
 "nbformat_minor": 2
}
