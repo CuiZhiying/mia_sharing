{
 "cells": [
  {
   "cell_type": "markdown",
   "metadata": {},
   "source": [
    "## 在Ubuntu中创建新的用户"
   ]
  },
  {
   "cell_type": "markdown",
   "metadata": {},
   "source": [
    "在Ubuntu中创建新的用户，并且指定其home目录的位置，并且赋予bash权限。恩，bash权限，不是sudo权限"
   ]
  },
  {
   "cell_type": "markdown",
   "metadata": {},
   "source": [
    "### 1. 创建新的用户"
   ]
  },
  {
   "cell_type": "markdown",
   "metadata": {},
   "source": [
    "首先创建新的用户，非常的简单\n",
    "``` bash\n",
    "sudo adduser username -d /target-home-dir\n",
    "```\n",
    "此时，进入家目录中是可以看到一个以文件名为命名的新用户，然后设置登录密码\n",
    "``` bash\n",
    "sudo passwd username\n",
    "```\n",
    "输入上面的命令之后，命令行会提示你输入设置的密码，并且重复验证一次。\n",
    "然后赋予用户bash的权限，这样子的话，新的用户就可以使用各种常用的命令，包括我们配置好的CUDA了,否则用户权限太低了。\n",
    "``` bash\n",
    "sudo usermod -s /bin/bash username\n",
    "\n",
    "```\n",
    "当然，这样子设置之后，新用户能够对你的系统能够做的修改基本是没有的，仅能满足基本的使用。\n",
    "以下是我设置一个`tmp`用户的截图   \n",
    "[![Selection-011.png](https://i.postimg.cc/J09XW5Vj/Selection-011.png)](https://postimg.cc/PvQJWZqq)   \n",
    "\n"
   ]
  },
  {
   "cell_type": "markdown",
   "metadata": {},
   "source": [
    "### 2. 开放ssh登录"
   ]
  },
  {
   "cell_type": "markdown",
   "metadata": {},
   "source": [
    "安装ssh服务器端\n",
    "``` bash\n",
    "sudo apt-get install openssh-server\n",
    "```\n",
    "然后启动服务\n",
    "``` bash\n",
    "sudo /etc/init.d/ssh start\n",
    "```\n",
    "然后，在局域网中的用户就可以用ssh登录该设备了，如使用上面登录的tmp账号登录设备，可以用\n",
    "``` bash\n",
    "ssh tmp@IP\n",
    "```\n",
    "等等，IP是多少？\n",
    "查询本机IP可用\n",
    "``` bash\n",
    "hostname I\n",
    "```\n",
    "如我在本机上查询的结果如下：   \n",
    "\n",
    "[![Selection-012.png](https://i.postimg.cc/4dmf6Kn0/Selection-012.png)](https://postimg.cc/ygCCB8mh)   \n",
    "\n",
    "\n",
    "所以，tmp用户要登录我的主机的话输入的命令是\n",
    "```\n",
    "ssh tmp@192.168.1.114\n",
    "```"
   ]
  },
  {
   "cell_type": "markdown",
   "metadata": {},
   "source": [
    "### 未尽事宜"
   ]
  },
  {
   "cell_type": "markdown",
   "metadata": {},
   "source": [
    "未尽事宜，组里讨论，如磁盘分区，查看哪个盘的空间大，就就把用户的家目录放到那个磁盘中"
   ]
  }
 ],
 "metadata": {
  "kernelspec": {
   "display_name": "Python 3",
   "language": "python",
   "name": "python3"
  },
  "language_info": {
   "codemirror_mode": {
    "name": "ipython",
    "version": 3
   },
   "file_extension": ".py",
   "mimetype": "text/x-python",
   "name": "python",
   "nbconvert_exporter": "python",
   "pygments_lexer": "ipython3",
   "version": "3.6.4"
  }
 },
 "nbformat": 4,
 "nbformat_minor": 2
}
